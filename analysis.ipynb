{
 "cells": [
  {
   "attachments": {},
   "cell_type": "markdown",
   "metadata": {},
   "source": [
    "# Vector and Raster Analysis\n",
    "\n",
    "In this project, we will automate the task of creating a mosaic-ed image for a particular area of interest from a large number of image tiles. We will use as our area of interst a polygon representing Mount Desert Island in the state of Maine. We will access that geometry and identify which imagery tiles intersect the boundary. We will then clip the images to the boundary and then finally mosaic the clipped images to a new single image file."
   ]
  },
  {
   "attachments": {},
   "cell_type": "markdown",
   "metadata": {},
   "source": [
    "First, let's import all the modules that we need for this project."
   ]
  },
  {
   "cell_type": "code",
   "execution_count": 3,
   "metadata": {},
   "outputs": [],
   "source": [
    "import geopandas as gpd\n",
    "import rasterio.merge\n",
    "import rasterio.mask\n",
    "import matplotlib.pyplot as plt\n",
    "from rasterio.plot import show\n",
    "import os"
   ]
  },
  {
   "attachments": {},
   "cell_type": "markdown",
   "metadata": {},
   "source": [
    "Now we're going to read in the shapefile for our area of interest (\"mdi.shp\") and the shapefile that stores the image tiles boundaries (\"boundaries.shp\"). Let's also check the coordinate reference system for each file to make sure they are the same."
   ]
  },
  {
   "cell_type": "code",
   "execution_count": 4,
   "metadata": {},
   "outputs": [
    {
     "name": "stdout",
     "output_type": "stream",
     "text": [
      "epsg:3857 epsg:3857\n"
     ]
    }
   ],
   "source": [
    "mdi = gpd.read_file('./data/mdi.shp')\n",
    "tiles = gpd.read_file('./tiles/boundaries/boundaries.shp')\n",
    "print(mdi.crs, tiles.crs)\n"
   ]
  },
  {
   "attachments": {},
   "cell_type": "markdown",
   "metadata": {},
   "source": [
    "Now we're going to plot the area of interest and the tile boundaries so we can see to what extent they intersect."
   ]
  },
  {
   "cell_type": "code",
   "execution_count": 4,
   "metadata": {},
   "outputs": [
    {
     "data": {
      "image/png": "[encoded data removed]",
      "text/plain": [
       "<Figure size 640x480 with 1 Axes>"
      ]
     },
     "metadata": {},
     "output_type": "display_data"
    }
   ],
   "source": [
    "f, ax = plt.subplots()\n",
    "tiles.exterior.plot(ax=ax, color='black')\n",
    "tiles.plot(ax=ax, color='red')\n",
    "mdi.plot(ax=ax, color='blue')\n",
    "plt.show()"
   ]
  },
  {
   "attachments": {},
   "cell_type": "markdown",
   "metadata": {},
   "source": [
    "So it looks like there are several tiles that don't actually intersect our area of interest. "
   ]
  },
  {
   "attachments": {},
   "cell_type": "markdown",
   "metadata": {},
   "source": [
    "The next step is to extract only those tiles that intersect our area of interest. To do this, we need the geometry of our area of interest. We can get that from the first feature in our dataset. Then we test the tiles to see if they intersect with the geometry. Then we extract only those tiles that do intersect."
   ]
  },
  {
   "cell_type": "code",
   "execution_count": 5,
   "metadata": {},
   "outputs": [
    {
     "data": {
      "text/html": [
       "<div>\n",
       "<style scoped>\n",
       "    .dataframe tbody tr th:only-of-type {\n",
       "        vertical-align: middle;\n",
       "    }\n",
       "\n",
       "    .dataframe tbody tr th {\n",
       "        vertical-align: top;\n",
       "    }\n",
       "\n",
       "    .dataframe thead th {\n",
       "        text-align: right;\n",
       "    }\n",
       "</style>\n",
       "<table border=\"1\" class=\"dataframe\">\n",
       "  <thead>\n",
       "    <tr style=\"text-align: right;\">\n",
       "      <th></th>\n",
       "      <th>file_name</th>\n",
       "      <th>geometry</th>\n",
       "    </tr>\n",
       "  </thead>\n",
       "  <tbody>\n",
       "    <tr>\n",
       "      <th>2</th>\n",
       "      <td>m_4406837_se_19_1_20150711_20151103.jp2</td>\n",
       "      <td>POLYGON ((-7618430.624 5533400.133, -7611467.6...</td>\n",
       "    </tr>\n",
       "    <tr>\n",
       "      <th>4</th>\n",
       "      <td>m_4406838_ne_19_1_20150706_20151103.jp2</td>\n",
       "      <td>POLYGON ((-7604515.434 5543150.478, -7597552.4...</td>\n",
       "    </tr>\n",
       "    <tr>\n",
       "      <th>5</th>\n",
       "      <td>m_4406838_nw_19_1_20150711_20151103.jp2</td>\n",
       "      <td>POLYGON ((-7611473.309 5543150.784, -7604509.3...</td>\n",
       "    </tr>\n",
       "    <tr>\n",
       "      <th>6</th>\n",
       "      <td>m_4406838_se_19_1_20150706_20151103.jp2</td>\n",
       "      <td>POLYGON ((-7604515.899 5533400.025, -7597552.8...</td>\n",
       "    </tr>\n",
       "    <tr>\n",
       "      <th>7</th>\n",
       "      <td>m_4406838_sw_19_1_20150711_20151103.jp2</td>\n",
       "      <td>POLYGON ((-7611473.762 5533400.938, -7604509.7...</td>\n",
       "    </tr>\n",
       "    <tr>\n",
       "      <th>11</th>\n",
       "      <td>m_4406839_sw_19_1_20150706_20151103.jp2</td>\n",
       "      <td>POLYGON ((-7597558.034 5533400.988, -7590594.0...</td>\n",
       "    </tr>\n",
       "    <tr>\n",
       "      <th>14</th>\n",
       "      <td>m_4406845_ne_19_1_20150711_20151103.jp2</td>\n",
       "      <td>POLYGON ((-7618430.992 5523661.020, -7611467.9...</td>\n",
       "    </tr>\n",
       "    <tr>\n",
       "      <th>16</th>\n",
       "      <td>m_4406845_se_19_1_20150711_20151103.jp2</td>\n",
       "      <td>POLYGON ((-7618430.891 5513933.181, -7611467.8...</td>\n",
       "    </tr>\n",
       "    <tr>\n",
       "      <th>18</th>\n",
       "      <td>m_4406846_ne_19_1_20150716_20151103.jp2</td>\n",
       "      <td>POLYGON ((-7604515.673 5523661.900, -7597552.6...</td>\n",
       "    </tr>\n",
       "    <tr>\n",
       "      <th>19</th>\n",
       "      <td>m_4406846_nw_19_1_20150711_20151103.jp2</td>\n",
       "      <td>POLYGON ((-7611473.135 5523661.815, -7604509.1...</td>\n",
       "    </tr>\n",
       "    <tr>\n",
       "      <th>20</th>\n",
       "      <td>m_4406846_se_19_1_20150706_20151103.jp2</td>\n",
       "      <td>POLYGON ((-7604515.358 5513933.659, -7597552.3...</td>\n",
       "    </tr>\n",
       "    <tr>\n",
       "      <th>21</th>\n",
       "      <td>m_4406846_sw_19_1_20150711_20151103.jp2</td>\n",
       "      <td>POLYGON ((-7611473.428 5513933.974, -7604509.4...</td>\n",
       "    </tr>\n",
       "    <tr>\n",
       "      <th>22</th>\n",
       "      <td>m_4406847_ne_19_1_20150706_20151103.jp2</td>\n",
       "      <td>POLYGON ((-7590600.759 5523661.112, -7583637.7...</td>\n",
       "    </tr>\n",
       "    <tr>\n",
       "      <th>23</th>\n",
       "      <td>m_4406847_nw_19_1_20150706_20151103.jp2</td>\n",
       "      <td>POLYGON ((-7597558.223 5523661.866, -7590594.2...</td>\n",
       "    </tr>\n",
       "    <tr>\n",
       "      <th>24</th>\n",
       "      <td>m_4406847_sw_19_1_20150706_20151103.jp2</td>\n",
       "      <td>POLYGON ((-7597558.906 5513933.014, -7590594.9...</td>\n",
       "    </tr>\n",
       "    <tr>\n",
       "      <th>26</th>\n",
       "      <td>m_4406853_ne_19_1_20150711_20151103.jp2</td>\n",
       "      <td>POLYGON ((-7618430.718 5504215.592, -7611467.7...</td>\n",
       "    </tr>\n",
       "    <tr>\n",
       "      <th>30</th>\n",
       "      <td>m_4406854_ne_19_1_20150706_20151103.jp2</td>\n",
       "      <td>POLYGON ((-7604515.953 5504215.070, -7597552.9...</td>\n",
       "    </tr>\n",
       "    <tr>\n",
       "      <th>31</th>\n",
       "      <td>m_4406854_nw_19_1_20150711_20151103.jp2</td>\n",
       "      <td>POLYGON ((-7611473.032 5504215.395, -7604509.0...</td>\n",
       "    </tr>\n",
       "  </tbody>\n",
       "</table>\n",
       "</div>"
      ],
      "text/plain": [
       "                                  file_name  \\\n",
       "2   m_4406837_se_19_1_20150711_20151103.jp2   \n",
       "4   m_4406838_ne_19_1_20150706_20151103.jp2   \n",
       "5   m_4406838_nw_19_1_20150711_20151103.jp2   \n",
       "6   m_4406838_se_19_1_20150706_20151103.jp2   \n",
       "7   m_4406838_sw_19_1_20150711_20151103.jp2   \n",
       "11  m_4406839_sw_19_1_20150706_20151103.jp2   \n",
       "14  m_4406845_ne_19_1_20150711_20151103.jp2   \n",
       "16  m_4406845_se_19_1_20150711_20151103.jp2   \n",
       "18  m_4406846_ne_19_1_20150716_20151103.jp2   \n",
       "19  m_4406846_nw_19_1_20150711_20151103.jp2   \n",
       "20  m_4406846_se_19_1_20150706_20151103.jp2   \n",
       "21  m_4406846_sw_19_1_20150711_20151103.jp2   \n",
       "22  m_4406847_ne_19_1_20150706_20151103.jp2   \n",
       "23  m_4406847_nw_19_1_20150706_20151103.jp2   \n",
       "24  m_4406847_sw_19_1_20150706_20151103.jp2   \n",
       "26  m_4406853_ne_19_1_20150711_20151103.jp2   \n",
       "30  m_4406854_ne_19_1_20150706_20151103.jp2   \n",
       "31  m_4406854_nw_19_1_20150711_20151103.jp2   \n",
       "\n",
       "                                             geometry  \n",
       "2   POLYGON ((-7618430.624 5533400.133, -7611467.6...  \n",
       "4   POLYGON ((-7604515.434 5543150.478, -7597552.4...  \n",
       "5   POLYGON ((-7611473.309 5543150.784, -7604509.3...  \n",
       "6   POLYGON ((-7604515.899 5533400.025, -7597552.8...  \n",
       "7   POLYGON ((-7611473.762 5533400.938, -7604509.7...  \n",
       "11  POLYGON ((-7597558.034 5533400.988, -7590594.0...  \n",
       "14  POLYGON ((-7618430.992 5523661.020, -7611467.9...  \n",
       "16  POLYGON ((-7618430.891 5513933.181, -7611467.8...  \n",
       "18  POLYGON ((-7604515.673 5523661.900, -7597552.6...  \n",
       "19  POLYGON ((-7611473.135 5523661.815, -7604509.1...  \n",
       "20  POLYGON ((-7604515.358 5513933.659, -7597552.3...  \n",
       "21  POLYGON ((-7611473.428 5513933.974, -7604509.4...  \n",
       "22  POLYGON ((-7590600.759 5523661.112, -7583637.7...  \n",
       "23  POLYGON ((-7597558.223 5523661.866, -7590594.2...  \n",
       "24  POLYGON ((-7597558.906 5513933.014, -7590594.9...  \n",
       "26  POLYGON ((-7618430.718 5504215.592, -7611467.7...  \n",
       "30  POLYGON ((-7604515.953 5504215.070, -7597552.9...  \n",
       "31  POLYGON ((-7611473.032 5504215.395, -7604509.0...  "
      ]
     },
     "execution_count": 5,
     "metadata": {},
     "output_type": "execute_result"
    }
   ],
   "source": [
    "mdi_geom = mdi.loc[0, 'geometry']\n",
    "intersect_mask = tiles.intersects(mdi_geom)\n",
    "intersects = tiles.loc[intersect_mask].copy()\n",
    "intersects"
   ]
  },
  {
   "attachments": {},
   "cell_type": "markdown",
   "metadata": {},
   "source": [
    "Now, let's plot the area of interest with the intersecting tiles."
   ]
  },
  {
   "cell_type": "code",
   "execution_count": 6,
   "metadata": {},
   "outputs": [
    {
     "data": {
      "image/png": "[encoded data removed]",
      "text/plain": [
       "<Figure size 640x480 with 1 Axes>"
      ]
     },
     "metadata": {},
     "output_type": "display_data"
    }
   ],
   "source": [
    "f, ax = plt.subplots()\n",
    "intersects.exterior.plot(ax=ax, color='black')\n",
    "intersects.plot(ax=ax, color='red')\n",
    "mdi.plot(ax=ax, color='blue')\n",
    "plt.show()"
   ]
  },
  {
   "attachments": {},
   "cell_type": "markdown",
   "metadata": {},
   "source": [
    "Everything looks good. Gone are the tiles that don't intersect the area of interest. Now let's print the number of intersecting tiles."
   ]
  },
  {
   "cell_type": "code",
   "execution_count": 7,
   "metadata": {},
   "outputs": [
    {
     "name": "stdout",
     "output_type": "stream",
     "text": [
      "18\n"
     ]
    }
   ],
   "source": [
    "print(len(intersects.values))"
   ]
  },
  {
   "attachments": {},
   "cell_type": "markdown",
   "metadata": {},
   "source": [
    "Now we're going to iterate through the intersects rows, then clip the raster images to the area of interest geometry and then save each clipped image to a new file."
   ]
  },
  {
   "cell_type": "code",
   "execution_count": 16,
   "metadata": {},
   "outputs": [
    {
     "name": "stdout",
     "output_type": "stream",
     "text": [
      "processing index 2\n",
      "processing index 4\n",
      "processing index 5\n",
      "processing index 6\n",
      "processing index 7\n",
      "processing index 11\n",
      "processing index 14\n",
      "processing index 16\n",
      "processing index 18\n",
      "processing index 19\n",
      "processing index 20\n",
      "processing index 21\n",
      "processing index 22\n",
      "processing index 23\n",
      "processing index 24\n",
      "processing index 26\n",
      "processing index 30\n",
      "processing index 31\n"
     ]
    }
   ],
   "source": [
    "for index, tile in intersects.iterrows():\n",
    "\n",
    "    print(f'processing index {index}')\n",
    "    \n",
    "    in_file_name = tile['file_name']\n",
    "    in_file_path = f'./tiles/img/{in_file_name}'\n",
    "    out_file_path = './tiles/clipped/' + 'clipped_' + in_file_name.split('.')[0] + '.tif'\n",
    " \n",
    "    with rasterio.open(in_file_path) as src:\n",
    "        out_image, out_transform = rasterio.mask.mask(src, [mdi_geom], crop=True)\n",
    "        out_meta = src.meta.copy()\n",
    "        out_meta.update({\"driver\": \"GTiff\",\n",
    "                 \"height\": out_image.shape[1],\n",
    "                 \"width\": out_image.shape[2],\n",
    "                 \"transform\": out_transform})\n",
    "        with rasterio.open(out_file_path, \"w\", **out_meta) as dest:\n",
    "            dest.write(out_image)"
   ]
  },
  {
   "attachments": {},
   "cell_type": "markdown",
   "metadata": {},
   "source": [
    "The last step is to mosaic all the clipped images into a new file. The resulting file will be quite large."
   ]
  },
  {
   "cell_type": "code",
   "execution_count": 9,
   "metadata": {},
   "outputs": [],
   "source": [
    "def filter(file):\n",
    "    if file.split('.')[1] == 'tif':\n",
    "        return f'./tiles/clipped/{file}'\n",
    "\n",
    "files = os.listdir('./tiles/clipped')\n",
    "tif_files = list(map(filter, files))\n",
    "output_file_path = './tiles/mosaic/mosaic.tif'\n",
    "rasterio.merge.merge(tif_files, dst_path=output_file_path)"
   ]
  }
 ],
 "metadata": {
  "kernelspec": {
   "display_name": "vector_raster",
   "language": "python",
   "name": "python3"
  },
  "language_info": {
   "codemirror_mode": {
    "name": "ipython",
    "version": 3
   },
   "file_extension": ".py",
   "mimetype": "text/x-python",
   "name": "python",
   "nbconvert_exporter": "python",
   "pygments_lexer": "ipython3",
   "version": "3.9.16"
  },
  "orig_nbformat": 4,
  "vscode": {
   "interpreter": {
    "hash": "ccc0c54c07b8935489da24e7bffd33d774894756e8d8c4daf96eb56bff6c5432"
   }
  }
 },
 "nbformat": 4,
 "nbformat_minor": 2
}
